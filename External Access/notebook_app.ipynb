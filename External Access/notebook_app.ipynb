{
 "metadata": {
  "kernelspec": {
   "display_name": "Streamlit Notebook",
   "name": "streamlit"
  }
 },
 "nbformat_minor": 5,
 "nbformat": 4,
 "cells": [
  {
   "cell_type": "code",
   "id": "3775908f-ca36-4846-8f38-5adca39217f2",
   "metadata": {
    "language": "python",
    "name": "cell1",
    "collapsed": false
   },
   "source": "# Import python packages\nimport streamlit as st\nimport pandas as pd\n# Importing Python libraries\nimport bs4 as BeautifulSoup\nimport urllib.request \n\n# We can also use Snowpark for our analyses!\nfrom snowflake.snowpark.context import get_active_session\nsession = get_active_session()\n",
   "execution_count": null,
   "outputs": []
  },
  {
   "cell_type": "code",
   "id": "3b01656f-fcd4-4ee9-924b-61d8ace120d7",
   "metadata": {
    "language": "python",
    "name": "cell4"
   },
   "outputs": [],
   "source": "# Fetching the content from the Wikipedia URL\nget_data = urllib.request.urlopen('https://en.wikipedia.org/wiki/Fruit_preserves')\n\nread_page = get_data.read()",
   "execution_count": null
  },
  {
   "cell_type": "code",
   "id": "9376ef77-0a1e-4efb-a486-d567a0a63117",
   "metadata": {
    "language": "python",
    "name": "cell5"
   },
   "outputs": [],
   "source": "# Parsing the Wikipedia URL content and storing the page text\nparse_page = BeautifulSoup.BeautifulSoup(read_page,'html.parser')\n\n# Returning all the <p> paragraph tags\nparagraphs = parse_page.find_all('p')\npage_content = ''",
   "execution_count": null
  },
  {
   "cell_type": "code",
   "id": "5a3569c2-f7d7-4fb2-8c34-787e20e9e79c",
   "metadata": {
    "language": "python",
    "name": "cell6"
   },
   "outputs": [],
   "source": "# Looping through each of the paragraphs and adding them to the variable\nfor p in paragraphs:  \n    page_content += p.text\n                    \n    # Make the paragraph tags readable\n    print(p.prettify())",
   "execution_count": null
  },
  {
   "cell_type": "code",
   "id": "1aa8b03a-8d96-4e77-817b-0d32ffdc7635",
   "metadata": {
    "language": "python",
    "name": "cell7"
   },
   "outputs": [],
   "source": "for p in paragraphs:  \n    page_content += p.text\n    print(p.get_text())",
   "execution_count": null
  },
  {
   "cell_type": "code",
   "id": "8d50cbf4-0c8d-4950-86cb-114990437ac9",
   "metadata": {
    "language": "sql",
    "name": "cell2"
   },
   "source": "-- Welcome to Snowflake Notebooks!\n-- Try out a SQL cell to generate some data.\nSELECT 'FRIDAY' as SNOWDAY, 0.2 as CHANCE_OF_SNOW\nUNION ALL\nSELECT 'SATURDAY',0.5\nUNION ALL \nSELECT 'SUNDAY', 0.9;",
   "execution_count": null,
   "outputs": []
  },
  {
   "cell_type": "code",
   "id": "c695373e-ac74-4b62-a1f1-08206cbd5c81",
   "metadata": {
    "language": "python",
    "name": "cell3"
   },
   "source": "# Then, we can use the python name to turn cell2 into a Pandas dataframe\nmy_df = cell2.to_pandas()\n\n# Chart the data\nst.subheader(\"Chance of SNOW ❄️\")\nst.line_chart(my_df, x='SNOWDAY', y='CHANCE_OF_SNOW')\n\n# Give it a go!\nst.subheader(\"Try it out yourself and show off your skills 🥇\")",
   "execution_count": null,
   "outputs": []
  }
 ]
}